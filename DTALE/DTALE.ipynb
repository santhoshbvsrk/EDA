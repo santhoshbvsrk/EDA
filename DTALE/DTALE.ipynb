{
 "cells": [
  {
   "cell_type": "code",
   "execution_count": 1,
   "metadata": {},
   "outputs": [],
   "source": [
    "import numpy as np\n",
    "import pandas as pd"
   ]
  },
  {
   "cell_type": "code",
   "execution_count": 2,
   "metadata": {},
   "outputs": [],
   "source": [
    "df_cars=pd.read_csv('https://raw.githubusercontent.com/insaid2018/Term-1/master/Data/Projects/car_sales.csv', encoding=\"ISO-8859-1\")"
   ]
  },
  {
   "cell_type": "code",
   "execution_count": 3,
   "metadata": {},
   "outputs": [
    {
     "data": {
      "text/html": [
       "<div>\n",
       "<style scoped>\n",
       "    .dataframe tbody tr th:only-of-type {\n",
       "        vertical-align: middle;\n",
       "    }\n",
       "\n",
       "    .dataframe tbody tr th {\n",
       "        vertical-align: top;\n",
       "    }\n",
       "\n",
       "    .dataframe thead th {\n",
       "        text-align: right;\n",
       "    }\n",
       "</style>\n",
       "<table border=\"1\" class=\"dataframe\">\n",
       "  <thead>\n",
       "    <tr style=\"text-align: right;\">\n",
       "      <th></th>\n",
       "      <th>car</th>\n",
       "      <th>price</th>\n",
       "      <th>body</th>\n",
       "      <th>mileage</th>\n",
       "      <th>engV</th>\n",
       "      <th>engType</th>\n",
       "      <th>registration</th>\n",
       "      <th>year</th>\n",
       "      <th>model</th>\n",
       "      <th>drive</th>\n",
       "    </tr>\n",
       "  </thead>\n",
       "  <tbody>\n",
       "    <tr>\n",
       "      <th>0</th>\n",
       "      <td>Ford</td>\n",
       "      <td>15500.0</td>\n",
       "      <td>crossover</td>\n",
       "      <td>68</td>\n",
       "      <td>2.5</td>\n",
       "      <td>Gas</td>\n",
       "      <td>yes</td>\n",
       "      <td>2010</td>\n",
       "      <td>Kuga</td>\n",
       "      <td>full</td>\n",
       "    </tr>\n",
       "    <tr>\n",
       "      <th>1</th>\n",
       "      <td>Mercedes-Benz</td>\n",
       "      <td>20500.0</td>\n",
       "      <td>sedan</td>\n",
       "      <td>173</td>\n",
       "      <td>1.8</td>\n",
       "      <td>Gas</td>\n",
       "      <td>yes</td>\n",
       "      <td>2011</td>\n",
       "      <td>E-Class</td>\n",
       "      <td>rear</td>\n",
       "    </tr>\n",
       "    <tr>\n",
       "      <th>2</th>\n",
       "      <td>Mercedes-Benz</td>\n",
       "      <td>35000.0</td>\n",
       "      <td>other</td>\n",
       "      <td>135</td>\n",
       "      <td>5.5</td>\n",
       "      <td>Petrol</td>\n",
       "      <td>yes</td>\n",
       "      <td>2008</td>\n",
       "      <td>CL 550</td>\n",
       "      <td>rear</td>\n",
       "    </tr>\n",
       "    <tr>\n",
       "      <th>3</th>\n",
       "      <td>Mercedes-Benz</td>\n",
       "      <td>17800.0</td>\n",
       "      <td>van</td>\n",
       "      <td>162</td>\n",
       "      <td>1.8</td>\n",
       "      <td>Diesel</td>\n",
       "      <td>yes</td>\n",
       "      <td>2012</td>\n",
       "      <td>B 180</td>\n",
       "      <td>front</td>\n",
       "    </tr>\n",
       "    <tr>\n",
       "      <th>4</th>\n",
       "      <td>Mercedes-Benz</td>\n",
       "      <td>33000.0</td>\n",
       "      <td>vagon</td>\n",
       "      <td>91</td>\n",
       "      <td>NaN</td>\n",
       "      <td>Other</td>\n",
       "      <td>yes</td>\n",
       "      <td>2013</td>\n",
       "      <td>E-Class</td>\n",
       "      <td>NaN</td>\n",
       "    </tr>\n",
       "  </tbody>\n",
       "</table>\n",
       "</div>"
      ],
      "text/plain": [
       "             car    price       body  mileage  engV engType registration  \\\n",
       "0           Ford  15500.0  crossover       68   2.5     Gas          yes   \n",
       "1  Mercedes-Benz  20500.0      sedan      173   1.8     Gas          yes   \n",
       "2  Mercedes-Benz  35000.0      other      135   5.5  Petrol          yes   \n",
       "3  Mercedes-Benz  17800.0        van      162   1.8  Diesel          yes   \n",
       "4  Mercedes-Benz  33000.0      vagon       91   NaN   Other          yes   \n",
       "\n",
       "   year    model  drive  \n",
       "0  2010     Kuga   full  \n",
       "1  2011  E-Class   rear  \n",
       "2  2008   CL 550   rear  \n",
       "3  2012    B 180  front  \n",
       "4  2013  E-Class    NaN  "
      ]
     },
     "execution_count": 3,
     "metadata": {},
     "output_type": "execute_result"
    }
   ],
   "source": [
    "df_cars.head()"
   ]
  },
  {
   "cell_type": "code",
   "execution_count": 4,
   "metadata": {},
   "outputs": [
    {
     "name": "stdout",
     "output_type": "stream",
     "text": [
      "Requirement already satisfied: dtale in c:\\users\\santhoshbvsrk\\anaconda3\\lib\\site-packages (1.16.0)\n",
      "Requirement already satisfied: future>=0.14.0 in c:\\users\\santhoshbvsrk\\anaconda3\\lib\\site-packages (from dtale) (0.18.2)\n",
      "Requirement already satisfied: squarify in c:\\users\\santhoshbvsrk\\anaconda3\\lib\\site-packages (from dtale) (0.4.3)\n",
      "Requirement already satisfied: six in c:\\users\\santhoshbvsrk\\anaconda3\\lib\\site-packages (from dtale) (1.14.0)\n",
      "Requirement already satisfied: dash-colorscales in c:\\users\\santhoshbvsrk\\anaconda3\\lib\\site-packages (from dtale) (0.0.4)\n",
      "Requirement already satisfied: Flask-Compress in c:\\users\\santhoshbvsrk\\anaconda3\\lib\\site-packages (from dtale) (1.6.0)\n",
      "Requirement already satisfied: scikit-learn>='0.21.0 in c:\\users\\santhoshbvsrk\\anaconda3\\lib\\site-packages (from dtale) (0.22.1)\n",
      "Requirement already satisfied: scipy in c:\\users\\santhoshbvsrk\\anaconda3\\lib\\site-packages (from dtale) (1.4.1)\n",
      "Requirement already satisfied: itsdangerous in c:\\users\\santhoshbvsrk\\anaconda3\\lib\\site-packages (from dtale) (1.1.0)\n",
      "Requirement already satisfied: statsmodels in c:\\users\\santhoshbvsrk\\anaconda3\\lib\\site-packages (from dtale) (0.11.0)\n",
      "Requirement already satisfied: xarray in c:\\users\\santhoshbvsrk\\anaconda3\\lib\\site-packages (from dtale) (0.16.1)\n",
      "Requirement already satisfied: flask-ngrok; python_version > \"3.0\" in c:\\users\\santhoshbvsrk\\anaconda3\\lib\\site-packages (from dtale) (0.0.25)\n",
      "Requirement already satisfied: dash>=1.5.0 in c:\\users\\santhoshbvsrk\\anaconda3\\lib\\site-packages (from dtale) (1.16.2)\n",
      "Requirement already satisfied: dash-bootstrap-components; python_version > \"3.0\" in c:\\users\\santhoshbvsrk\\anaconda3\\lib\\site-packages (from dtale) (0.10.7)\n",
      "Requirement already satisfied: Flask>=1.0 in c:\\users\\santhoshbvsrk\\anaconda3\\lib\\site-packages (from dtale) (1.1.1)\n",
      "Requirement already satisfied: lz4; python_version > \"3.0\" in c:\\users\\santhoshbvsrk\\anaconda3\\lib\\site-packages (from dtale) (3.1.0)\n",
      "Requirement already satisfied: requests in c:\\users\\santhoshbvsrk\\anaconda3\\lib\\site-packages (from dtale) (2.24.0)\n",
      "Requirement already satisfied: dash-daq in c:\\users\\santhoshbvsrk\\anaconda3\\lib\\site-packages (from dtale) (0.5.0)\n",
      "Requirement already satisfied: pandas in c:\\users\\santhoshbvsrk\\anaconda3\\lib\\site-packages (from dtale) (1.1.1)\n",
      "Requirement already satisfied: brotli in c:\\users\\santhoshbvsrk\\anaconda3\\lib\\site-packages (from Flask-Compress->dtale) (1.0.9)\n",
      "Requirement already satisfied: joblib>=0.11 in c:\\users\\santhoshbvsrk\\anaconda3\\lib\\site-packages (from scikit-learn>='0.21.0->dtale) (0.14.1)\n",
      "Requirement already satisfied: numpy>=1.11.0 in c:\\users\\santhoshbvsrk\\anaconda3\\lib\\site-packages (from scikit-learn>='0.21.0->dtale) (1.18.1)\n",
      "Requirement already satisfied: patsy>=0.5 in c:\\users\\santhoshbvsrk\\anaconda3\\lib\\site-packages (from statsmodels->dtale) (0.5.1)\n",
      "Requirement already satisfied: setuptools>=38.4 in c:\\users\\santhoshbvsrk\\anaconda3\\lib\\site-packages (from xarray->dtale) (45.2.0.post20200210)\n",
      "Requirement already satisfied: dash-html-components==1.1.1 in c:\\users\\santhoshbvsrk\\anaconda3\\lib\\site-packages (from dash>=1.5.0->dtale) (1.1.1)\n",
      "Requirement already satisfied: dash-renderer==1.8.2 in c:\\users\\santhoshbvsrk\\anaconda3\\lib\\site-packages (from dash>=1.5.0->dtale) (1.8.2)\n",
      "Requirement already satisfied: plotly in c:\\users\\santhoshbvsrk\\anaconda3\\lib\\site-packages (from dash>=1.5.0->dtale) (4.10.0)\n",
      "Requirement already satisfied: dash-core-components==1.12.1 in c:\\users\\santhoshbvsrk\\anaconda3\\lib\\site-packages (from dash>=1.5.0->dtale) (1.12.1)\n",
      "Requirement already satisfied: dash-table==4.10.1 in c:\\users\\santhoshbvsrk\\anaconda3\\lib\\site-packages (from dash>=1.5.0->dtale) (4.10.1)\n",
      "Requirement already satisfied: click>=5.1 in c:\\users\\santhoshbvsrk\\anaconda3\\lib\\site-packages (from Flask>=1.0->dtale) (7.0)\n",
      "Requirement already satisfied: Werkzeug>=0.15 in c:\\users\\santhoshbvsrk\\anaconda3\\lib\\site-packages (from Flask>=1.0->dtale) (1.0.0)\n",
      "Requirement already satisfied: Jinja2>=2.10.1 in c:\\users\\santhoshbvsrk\\anaconda3\\lib\\site-packages (from Flask>=1.0->dtale) (2.11.1)\n",
      "Requirement already satisfied: urllib3!=1.25.0,!=1.25.1,<1.26,>=1.21.1 in c:\\users\\santhoshbvsrk\\anaconda3\\lib\\site-packages (from requests->dtale) (1.25.8)\n",
      "Requirement already satisfied: chardet<4,>=3.0.2 in c:\\users\\santhoshbvsrk\\anaconda3\\lib\\site-packages (from requests->dtale) (3.0.4)\n",
      "Requirement already satisfied: certifi>=2017.4.17 in c:\\users\\santhoshbvsrk\\anaconda3\\lib\\site-packages (from requests->dtale) (2020.6.20)\n",
      "Requirement already satisfied: idna<3,>=2.5 in c:\\users\\santhoshbvsrk\\anaconda3\\lib\\site-packages (from requests->dtale) (2.8)\n",
      "Requirement already satisfied: python-dateutil>=2.7.3 in c:\\users\\santhoshbvsrk\\anaconda3\\lib\\site-packages (from pandas->dtale) (2.8.1)\n",
      "Requirement already satisfied: pytz>=2017.2 in c:\\users\\santhoshbvsrk\\anaconda3\\lib\\site-packages (from pandas->dtale) (2019.3)\n",
      "Requirement already satisfied: retrying>=1.3.3 in c:\\users\\santhoshbvsrk\\anaconda3\\lib\\site-packages (from plotly->dash>=1.5.0->dtale) (1.3.3)\n",
      "Requirement already satisfied: MarkupSafe>=0.23 in c:\\users\\santhoshbvsrk\\anaconda3\\lib\\site-packages (from Jinja2>=2.10.1->Flask>=1.0->dtale) (1.1.1)\n",
      "Note: you may need to restart the kernel to use updated packages.\n"
     ]
    }
   ],
   "source": [
    "pip install dtale   #installing dtale webclient on your machine"
   ]
  },
  {
   "cell_type": "code",
   "execution_count": 6,
   "metadata": {},
   "outputs": [],
   "source": [
    "import dtale   #importing dtale package to your notebook"
   ]
  },
  {
   "cell_type": "code",
   "execution_count": 8,
   "metadata": {},
   "outputs": [
    {
     "name": "stderr",
     "output_type": "stream",
     "text": [
      "2020-10-06 19:02:06,169 - INFO     - NumExpr defaulting to 4 threads.\n"
     ]
    },
    {
     "data": {
      "text/html": [
       "\n",
       "        <iframe\n",
       "            width=\"100%\"\n",
       "            height=\"475\"\n",
       "            src=\"http://DESKTOP-AC18MSF:40001/dtale/iframe/1\"\n",
       "            frameborder=\"0\"\n",
       "            allowfullscreen\n",
       "        ></iframe>\n",
       "        "
      ],
      "text/plain": [
       "<IPython.lib.display.IFrame at 0x1746eb6cb48>"
      ]
     },
     "metadata": {},
     "output_type": "display_data"
    },
    {
     "data": {
      "text/plain": []
     },
     "execution_count": 8,
     "metadata": {},
     "output_type": "execute_result"
    }
   ],
   "source": [
    "dt=dtale.show(df_cars)\n",
    "dt"
   ]
  }
 ],
 "metadata": {
  "kernelspec": {
   "display_name": "Python 3",
   "language": "python",
   "name": "python3"
  },
  "language_info": {
   "codemirror_mode": {
    "name": "ipython",
    "version": 3
   },
   "file_extension": ".py",
   "mimetype": "text/x-python",
   "name": "python",
   "nbconvert_exporter": "python",
   "pygments_lexer": "ipython3",
   "version": "3.7.6"
  }
 },
 "nbformat": 4,
 "nbformat_minor": 4
}
