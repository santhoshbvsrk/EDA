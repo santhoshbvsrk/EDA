{
 "cells": [
  {
   "cell_type": "markdown",
   "metadata": {},
   "source": [
    "# Outliers Detection & Handling"
   ]
  },
  {
   "cell_type": "markdown",
   "metadata": {},
   "source": [
    "#####  Importing required libraries for reading data"
   ]
  },
  {
   "cell_type": "code",
   "execution_count": 1,
   "metadata": {},
   "outputs": [],
   "source": [
    "import pandas as pd\n",
    "import numpy as np"
   ]
  },
  {
   "cell_type": "markdown",
   "metadata": {},
   "source": [
    "##### Reading Facebook Dataset"
   ]
  },
  {
   "cell_type": "code",
   "execution_count": 38,
   "metadata": {},
   "outputs": [
    {
     "data": {
      "text/html": [
       "<div>\n",
       "<style scoped>\n",
       "    .dataframe tbody tr th:only-of-type {\n",
       "        vertical-align: middle;\n",
       "    }\n",
       "\n",
       "    .dataframe tbody tr th {\n",
       "        vertical-align: top;\n",
       "    }\n",
       "\n",
       "    .dataframe thead th {\n",
       "        text-align: right;\n",
       "    }\n",
       "</style>\n",
       "<table border=\"1\" class=\"dataframe\">\n",
       "  <thead>\n",
       "    <tr style=\"text-align: right;\">\n",
       "      <th></th>\n",
       "      <th>userid</th>\n",
       "      <th>age</th>\n",
       "      <th>dob_day</th>\n",
       "      <th>dob_year</th>\n",
       "      <th>dob_month</th>\n",
       "      <th>gender</th>\n",
       "      <th>tenure</th>\n",
       "      <th>friend_count</th>\n",
       "      <th>friendships_initiated</th>\n",
       "      <th>likes</th>\n",
       "      <th>likes_received</th>\n",
       "      <th>mobile_likes</th>\n",
       "      <th>mobile_likes_received</th>\n",
       "      <th>www_likes</th>\n",
       "      <th>www_likes_received</th>\n",
       "    </tr>\n",
       "  </thead>\n",
       "  <tbody>\n",
       "    <tr>\n",
       "      <th>0</th>\n",
       "      <td>2094382</td>\n",
       "      <td>14</td>\n",
       "      <td>19</td>\n",
       "      <td>1999</td>\n",
       "      <td>11</td>\n",
       "      <td>male</td>\n",
       "      <td>266.0</td>\n",
       "      <td>0</td>\n",
       "      <td>0</td>\n",
       "      <td>0</td>\n",
       "      <td>0</td>\n",
       "      <td>0</td>\n",
       "      <td>0</td>\n",
       "      <td>0</td>\n",
       "      <td>0</td>\n",
       "    </tr>\n",
       "    <tr>\n",
       "      <th>1</th>\n",
       "      <td>1192601</td>\n",
       "      <td>14</td>\n",
       "      <td>2</td>\n",
       "      <td>1999</td>\n",
       "      <td>11</td>\n",
       "      <td>female</td>\n",
       "      <td>6.0</td>\n",
       "      <td>0</td>\n",
       "      <td>0</td>\n",
       "      <td>0</td>\n",
       "      <td>0</td>\n",
       "      <td>0</td>\n",
       "      <td>0</td>\n",
       "      <td>0</td>\n",
       "      <td>0</td>\n",
       "    </tr>\n",
       "    <tr>\n",
       "      <th>2</th>\n",
       "      <td>2083884</td>\n",
       "      <td>14</td>\n",
       "      <td>16</td>\n",
       "      <td>1999</td>\n",
       "      <td>11</td>\n",
       "      <td>male</td>\n",
       "      <td>13.0</td>\n",
       "      <td>0</td>\n",
       "      <td>0</td>\n",
       "      <td>0</td>\n",
       "      <td>0</td>\n",
       "      <td>0</td>\n",
       "      <td>0</td>\n",
       "      <td>0</td>\n",
       "      <td>0</td>\n",
       "    </tr>\n",
       "    <tr>\n",
       "      <th>3</th>\n",
       "      <td>1203168</td>\n",
       "      <td>14</td>\n",
       "      <td>25</td>\n",
       "      <td>1999</td>\n",
       "      <td>12</td>\n",
       "      <td>female</td>\n",
       "      <td>93.0</td>\n",
       "      <td>0</td>\n",
       "      <td>0</td>\n",
       "      <td>0</td>\n",
       "      <td>0</td>\n",
       "      <td>0</td>\n",
       "      <td>0</td>\n",
       "      <td>0</td>\n",
       "      <td>0</td>\n",
       "    </tr>\n",
       "    <tr>\n",
       "      <th>4</th>\n",
       "      <td>1733186</td>\n",
       "      <td>14</td>\n",
       "      <td>4</td>\n",
       "      <td>1999</td>\n",
       "      <td>12</td>\n",
       "      <td>male</td>\n",
       "      <td>82.0</td>\n",
       "      <td>0</td>\n",
       "      <td>0</td>\n",
       "      <td>0</td>\n",
       "      <td>0</td>\n",
       "      <td>0</td>\n",
       "      <td>0</td>\n",
       "      <td>0</td>\n",
       "      <td>0</td>\n",
       "    </tr>\n",
       "  </tbody>\n",
       "</table>\n",
       "</div>"
      ],
      "text/plain": [
       "    userid  age  dob_day  dob_year  dob_month  gender  tenure  friend_count  \\\n",
       "0  2094382   14       19      1999         11    male   266.0             0   \n",
       "1  1192601   14        2      1999         11  female     6.0             0   \n",
       "2  2083884   14       16      1999         11    male    13.0             0   \n",
       "3  1203168   14       25      1999         12  female    93.0             0   \n",
       "4  1733186   14        4      1999         12    male    82.0             0   \n",
       "\n",
       "   friendships_initiated  likes  likes_received  mobile_likes  \\\n",
       "0                      0      0               0             0   \n",
       "1                      0      0               0             0   \n",
       "2                      0      0               0             0   \n",
       "3                      0      0               0             0   \n",
       "4                      0      0               0             0   \n",
       "\n",
       "   mobile_likes_received  www_likes  www_likes_received  \n",
       "0                      0          0                   0  \n",
       "1                      0          0                   0  \n",
       "2                      0          0                   0  \n",
       "3                      0          0                   0  \n",
       "4                      0          0                   0  "
      ]
     },
     "execution_count": 38,
     "metadata": {},
     "output_type": "execute_result"
    }
   ],
   "source": [
    "df=pd.read_csv(\"facebook_data.csv\")\n",
    "df.head()"
   ]
  },
  {
   "cell_type": "code",
   "execution_count": 27,
   "metadata": {},
   "outputs": [
    {
     "name": "stdout",
     "output_type": "stream",
     "text": [
      "<class 'pandas.core.frame.DataFrame'>\n",
      "RangeIndex: 99003 entries, 0 to 99002\n",
      "Data columns (total 15 columns):\n",
      " #   Column                 Non-Null Count  Dtype  \n",
      "---  ------                 --------------  -----  \n",
      " 0   userid                 99003 non-null  int64  \n",
      " 1   age                    99003 non-null  int64  \n",
      " 2   dob_day                99003 non-null  int64  \n",
      " 3   dob_year               99003 non-null  int64  \n",
      " 4   dob_month              99003 non-null  int64  \n",
      " 5   gender                 98828 non-null  object \n",
      " 6   tenure                 99001 non-null  float64\n",
      " 7   friend_count           99003 non-null  int64  \n",
      " 8   friendships_initiated  99003 non-null  int64  \n",
      " 9   likes                  99003 non-null  int64  \n",
      " 10  likes_received         99003 non-null  int64  \n",
      " 11  mobile_likes           99003 non-null  int64  \n",
      " 12  mobile_likes_received  99003 non-null  int64  \n",
      " 13  www_likes              99003 non-null  int64  \n",
      " 14  www_likes_received     99003 non-null  int64  \n",
      "dtypes: float64(1), int64(13), object(1)\n",
      "memory usage: 11.3+ MB\n"
     ]
    }
   ],
   "source": [
    "df.info()"
   ]
  },
  {
   "cell_type": "markdown",
   "metadata": {},
   "source": [
    "### Outliers Detection"
   ]
  },
  {
   "cell_type": "markdown",
   "metadata": {},
   "source": [
    "##### From this dataset we'll work on outliers for age column"
   ]
  },
  {
   "cell_type": "markdown",
   "metadata": {},
   "source": [
    "##### How to detect Outliers in a dataset ?\n",
    "* There are multiple ways to detect outliers in a dataset. We'll go through few of them.\n",
    "    * Using Statistics Method\n",
    "        * 1. Standard Deviation & Mean\n",
    "    * Using Visualization Tools\n",
    "        * 2. Box Plot\n",
    "        * 3. Scatter Plot\n",
    "        * 4. Histogram\n",
    "    * Using other Methods\n",
    "        * 5. IQR (Inter Quartile Range)\n",
    "        * 6. Z-Score\n",
    "    * Using Tool\n",
    "        * 7. DTALE (Though this is not a method, this is a PIP to be installed for profiling which can help you find outliers                other than providing you with lots of other data).\n",
    "      \n",
    "NOTE: Before going ahead and deciding on the value given by the above mentioned methods, it is advised to understand what the column denotes and whether the outlier value mentioned can be either increased or decreased accordingly."
   ]
  },
  {
   "cell_type": "markdown",
   "metadata": {},
   "source": [
    "##### Approach#1: Standard Deviation & Mean \n",
    "* Using Standard Deviation & Mean we can find outliers i.e., any data outside 3 Standard Deviations is an Outlier.\n",
    "* So, in order to find out the outlier we'll calculate Mean, Standard Deviation, 3*StandardDeviation.\n",
    "* Then, we'll add the 3 Standard Deviations to Mean to get the higher limit & subtract Mean from 3 Standard Deviations to find the lower limit."
   ]
  },
  {
   "cell_type": "code",
   "execution_count": 25,
   "metadata": {},
   "outputs": [
    {
     "name": "stdout",
     "output_type": "stream",
     "text": [
      "The Mean Age is 37.28022383160106, it's Standard Deviation is 22.58974831325895, it's Higher Limit is 105.04946877137792 & Lower Limit is -30.48902110817579\n"
     ]
    }
   ],
   "source": [
    "import statistics as st\n",
    "mean_age=st.mean(df['age'])\n",
    "std_age=st.stdev(df['age'])\n",
    "age_higherlimit=mean_age+std_age*3\n",
    "age_lowerlimit=mean_age-std_age*3\n",
    "print(\"The Mean Age is {}, it's Standard Deviation is {}, it's Higher Limit is {} & Lower Limit is {}\".format(mean_age,std_age,age_higherlimit,age_lowerlimit))"
   ]
  },
  {
   "cell_type": "markdown",
   "metadata": {},
   "source": [
    "##### Approach#2: Box Plot \n",
    "* Using box plot we can see a dark dots or sometimes dark line on either of the ends depending on the number of outlier points"
   ]
  },
  {
   "cell_type": "markdown",
   "metadata": {},
   "source": [
    "###### Import seaborn package"
   ]
  },
  {
   "cell_type": "code",
   "execution_count": 3,
   "metadata": {},
   "outputs": [],
   "source": [
    "import seaborn as sns"
   ]
  },
  {
   "cell_type": "markdown",
   "metadata": {},
   "source": [
    "##### Box plot on Age"
   ]
  },
  {
   "cell_type": "code",
   "execution_count": 39,
   "metadata": {},
   "outputs": [
    {
     "data": {
      "text/plain": [
       "<matplotlib.axes._subplots.AxesSubplot at 0x1841d210940>"
      ]
     },
     "execution_count": 39,
     "metadata": {},
     "output_type": "execute_result"
    },
    {
     "data": {
      "image/png": "[encoded data removed]",
      "text/plain": [
       "<Figure size 432x288 with 1 Axes>"
      ]
     },
     "metadata": {
      "needs_background": "light"
     },
     "output_type": "display_data"
    }
   ],
   "source": [
    "sns.boxplot(y=\"age\",data=df)"
   ]
  },
  {
   "cell_type": "markdown",
   "metadata": {},
   "source": [
    "* From the above plot we can say that there are outliers in age >95"
   ]
  },
  {
   "cell_type": "markdown",
   "metadata": {},
   "source": [
    "##### Approach#3: Scatter Plot"
   ]
  },
  {
   "cell_type": "code",
   "execution_count": 49,
   "metadata": {},
   "outputs": [
    {
     "data": {
      "text/plain": [
       "<matplotlib.axes._subplots.AxesSubplot at 0x1841d935eb0>"
      ]
     },
     "execution_count": 49,
     "metadata": {},
     "output_type": "execute_result"
    },
    {
     "data": {
      "image/png": "[encoded data removed]",
      "text/plain": [
       "<Figure size 720x720 with 1 Axes>"
      ]
     },
     "metadata": {
      "needs_background": "light"
     },
     "output_type": "display_data"
    }
   ],
   "source": [
    "df.plot.scatter(y=\"age\",x=\"dob_day\",figsize=(10,10))"
   ]
  },
  {
   "cell_type": "markdown",
   "metadata": {},
   "source": [
    "* From the above plot we can see that there are users above the age of 80 who are on Facebook which is a probable outlier."
   ]
  },
  {
   "cell_type": "markdown",
   "metadata": {},
   "source": [
    "##### Approach#4: Histogram"
   ]
  },
  {
   "cell_type": "markdown",
   "metadata": {},
   "source": [
    "* From Histogram we can see whether it is left skewed or right skewed which helps us identify on which side we've outliers. Here, outlier detection should happen based on understanding of what that column represents and are those values possible in real."
   ]
  },
  {
   "cell_type": "code",
   "execution_count": 6,
   "metadata": {},
   "outputs": [
    {
     "data": {
      "text/plain": [
       "array([[<matplotlib.axes._subplots.AxesSubplot object at 0x0000018412421B50>]],\n",
       "      dtype=object)"
      ]
     },
     "execution_count": 6,
     "metadata": {},
     "output_type": "execute_result"
    },
    {
     "data": {
      "image/png": "[encoded data removed]",
      "text/plain": [
       "<Figure size 432x288 with 1 Axes>"
      ]
     },
     "metadata": {
      "needs_background": "light"
     },
     "output_type": "display_data"
    }
   ],
   "source": [
    "df.hist(['age'])"
   ]
  },
  {
   "cell_type": "markdown",
   "metadata": {},
   "source": [
    "* From the above histogram plot, we can see that there are datapoints where age >95 which is not possible in this case of users on Facebook. Hence, this can be treated as outlier."
   ]
  },
  {
   "cell_type": "markdown",
   "metadata": {},
   "source": [
    "##### Approach#5: IQR (Inter Quartile Range)"
   ]
  },
  {
   "cell_type": "code",
   "execution_count": 7,
   "metadata": {},
   "outputs": [
    {
     "name": "stdout",
     "output_type": "stream",
     "text": [
      "The Low range Age value is: -25 and the High range age value is: 95\n"
     ]
    }
   ],
   "source": [
    "Q1 = df.quantile(0.25)\n",
    "Q3 = df.quantile(0.75)\n",
    "IQR = Q3 - Q1\n",
    "lower_range=Q1-(1.5*IQR)\n",
    "upper_range=Q3+(1.5*IQR)\n",
    "lower_range=lower_range.astype(int)\n",
    "upper_range=upper_range.astype(int)\n",
    "print(\"The Low range Age value is: {} and the High range age value is: {}\".format(lower_range['age'],upper_range['age']))"
   ]
  },
  {
   "cell_type": "markdown",
   "metadata": {},
   "source": [
    "* The above code gives low range & high range values for all columns of dataframe. We've fetched data for age which we are interested in."
   ]
  },
  {
   "cell_type": "markdown",
   "metadata": {},
   "source": [
    "* To fetch data for specific columns we've also created a function as shown below, which can be used on any dataframe and it's column"
   ]
  },
  {
   "cell_type": "code",
   "execution_count": 8,
   "metadata": {},
   "outputs": [],
   "source": [
    "def outlier(col):\n",
    "    sorted(col)\n",
    "    Q1,Q3=col.quantile([0.25,0.75])\n",
    "    IQR=Q3-Q1\n",
    "    lower_range=Q1-(1.5*IQR)\n",
    "    upper_range=Q3+(1.5*IQR)\n",
    "    return lower_range,upper_range"
   ]
  },
  {
   "cell_type": "markdown",
   "metadata": {},
   "source": [
    "* Calling the above created function on our dataset for age & dob_year columns"
   ]
  },
  {
   "cell_type": "code",
   "execution_count": 9,
   "metadata": {},
   "outputs": [
    {
     "data": {
      "text/plain": [
       "(-25.0, 95.0)"
      ]
     },
     "execution_count": 9,
     "metadata": {},
     "output_type": "execute_result"
    }
   ],
   "source": [
    "lowage,highage=outlier(df['age'])\n",
    "lowage,  highage"
   ]
  },
  {
   "cell_type": "code",
   "execution_count": 10,
   "metadata": {},
   "outputs": [
    {
     "data": {
      "text/html": [
       "<div>\n",
       "<style scoped>\n",
       "    .dataframe tbody tr th:only-of-type {\n",
       "        vertical-align: middle;\n",
       "    }\n",
       "\n",
       "    .dataframe tbody tr th {\n",
       "        vertical-align: top;\n",
       "    }\n",
       "\n",
       "    .dataframe thead th {\n",
       "        text-align: right;\n",
       "    }\n",
       "</style>\n",
       "<table border=\"1\" class=\"dataframe\">\n",
       "  <thead>\n",
       "    <tr style=\"text-align: right;\">\n",
       "      <th></th>\n",
       "      <th>userid</th>\n",
       "      <th>age</th>\n",
       "      <th>dob_day</th>\n",
       "      <th>dob_year</th>\n",
       "      <th>dob_month</th>\n",
       "      <th>gender</th>\n",
       "      <th>tenure</th>\n",
       "      <th>friend_count</th>\n",
       "      <th>friendships_initiated</th>\n",
       "      <th>likes</th>\n",
       "      <th>likes_received</th>\n",
       "      <th>mobile_likes</th>\n",
       "      <th>mobile_likes_received</th>\n",
       "      <th>www_likes</th>\n",
       "      <th>www_likes_received</th>\n",
       "    </tr>\n",
       "  </thead>\n",
       "  <tbody>\n",
       "    <tr>\n",
       "      <th>1693</th>\n",
       "      <td>1942772</td>\n",
       "      <td>97</td>\n",
       "      <td>15</td>\n",
       "      <td>1916</td>\n",
       "      <td>11</td>\n",
       "      <td>male</td>\n",
       "      <td>613.0</td>\n",
       "      <td>0</td>\n",
       "      <td>0</td>\n",
       "      <td>0</td>\n",
       "      <td>0</td>\n",
       "      <td>0</td>\n",
       "      <td>0</td>\n",
       "      <td>0</td>\n",
       "      <td>0</td>\n",
       "    </tr>\n",
       "    <tr>\n",
       "      <th>1694</th>\n",
       "      <td>1226208</td>\n",
       "      <td>100</td>\n",
       "      <td>1</td>\n",
       "      <td>1913</td>\n",
       "      <td>12</td>\n",
       "      <td>female</td>\n",
       "      <td>171.0</td>\n",
       "      <td>0</td>\n",
       "      <td>0</td>\n",
       "      <td>0</td>\n",
       "      <td>0</td>\n",
       "      <td>0</td>\n",
       "      <td>0</td>\n",
       "      <td>0</td>\n",
       "      <td>0</td>\n",
       "    </tr>\n",
       "    <tr>\n",
       "      <th>1695</th>\n",
       "      <td>2192316</td>\n",
       "      <td>107</td>\n",
       "      <td>22</td>\n",
       "      <td>1906</td>\n",
       "      <td>5</td>\n",
       "      <td>male</td>\n",
       "      <td>242.0</td>\n",
       "      <td>0</td>\n",
       "      <td>0</td>\n",
       "      <td>0</td>\n",
       "      <td>0</td>\n",
       "      <td>0</td>\n",
       "      <td>0</td>\n",
       "      <td>0</td>\n",
       "      <td>0</td>\n",
       "    </tr>\n",
       "    <tr>\n",
       "      <th>1696</th>\n",
       "      <td>2100908</td>\n",
       "      <td>108</td>\n",
       "      <td>26</td>\n",
       "      <td>1905</td>\n",
       "      <td>3</td>\n",
       "      <td>male</td>\n",
       "      <td>109.0</td>\n",
       "      <td>0</td>\n",
       "      <td>0</td>\n",
       "      <td>0</td>\n",
       "      <td>0</td>\n",
       "      <td>0</td>\n",
       "      <td>0</td>\n",
       "      <td>0</td>\n",
       "      <td>0</td>\n",
       "    </tr>\n",
       "    <tr>\n",
       "      <th>1778</th>\n",
       "      <td>1973211</td>\n",
       "      <td>108</td>\n",
       "      <td>6</td>\n",
       "      <td>1905</td>\n",
       "      <td>6</td>\n",
       "      <td>male</td>\n",
       "      <td>6.0</td>\n",
       "      <td>0</td>\n",
       "      <td>0</td>\n",
       "      <td>1</td>\n",
       "      <td>1</td>\n",
       "      <td>1</td>\n",
       "      <td>1</td>\n",
       "      <td>0</td>\n",
       "      <td>0</td>\n",
       "    </tr>\n",
       "    <tr>\n",
       "      <th>...</th>\n",
       "      <td>...</td>\n",
       "      <td>...</td>\n",
       "      <td>...</td>\n",
       "      <td>...</td>\n",
       "      <td>...</td>\n",
       "      <td>...</td>\n",
       "      <td>...</td>\n",
       "      <td>...</td>\n",
       "      <td>...</td>\n",
       "      <td>...</td>\n",
       "      <td>...</td>\n",
       "      <td>...</td>\n",
       "      <td>...</td>\n",
       "      <td>...</td>\n",
       "      <td>...</td>\n",
       "    </tr>\n",
       "    <tr>\n",
       "      <th>98895</th>\n",
       "      <td>2008877</td>\n",
       "      <td>108</td>\n",
       "      <td>23</td>\n",
       "      <td>1905</td>\n",
       "      <td>4</td>\n",
       "      <td>male</td>\n",
       "      <td>1587.0</td>\n",
       "      <td>2460</td>\n",
       "      <td>1158</td>\n",
       "      <td>2753</td>\n",
       "      <td>593</td>\n",
       "      <td>2694</td>\n",
       "      <td>327</td>\n",
       "      <td>59</td>\n",
       "      <td>266</td>\n",
       "    </tr>\n",
       "    <tr>\n",
       "      <th>98903</th>\n",
       "      <td>2085281</td>\n",
       "      <td>96</td>\n",
       "      <td>28</td>\n",
       "      <td>1917</td>\n",
       "      <td>6</td>\n",
       "      <td>male</td>\n",
       "      <td>999.0</td>\n",
       "      <td>3738</td>\n",
       "      <td>1705</td>\n",
       "      <td>2952</td>\n",
       "      <td>3857</td>\n",
       "      <td>2223</td>\n",
       "      <td>2709</td>\n",
       "      <td>729</td>\n",
       "      <td>1148</td>\n",
       "    </tr>\n",
       "    <tr>\n",
       "      <th>98923</th>\n",
       "      <td>1761484</td>\n",
       "      <td>103</td>\n",
       "      <td>18</td>\n",
       "      <td>1910</td>\n",
       "      <td>3</td>\n",
       "      <td>female</td>\n",
       "      <td>560.0</td>\n",
       "      <td>3018</td>\n",
       "      <td>547</td>\n",
       "      <td>5595</td>\n",
       "      <td>1926</td>\n",
       "      <td>586</td>\n",
       "      <td>810</td>\n",
       "      <td>5009</td>\n",
       "      <td>1116</td>\n",
       "    </tr>\n",
       "    <tr>\n",
       "      <th>98934</th>\n",
       "      <td>2115451</td>\n",
       "      <td>108</td>\n",
       "      <td>18</td>\n",
       "      <td>1905</td>\n",
       "      <td>5</td>\n",
       "      <td>female</td>\n",
       "      <td>954.0</td>\n",
       "      <td>3982</td>\n",
       "      <td>1190</td>\n",
       "      <td>6016</td>\n",
       "      <td>4012</td>\n",
       "      <td>1180</td>\n",
       "      <td>2816</td>\n",
       "      <td>4836</td>\n",
       "      <td>1196</td>\n",
       "    </tr>\n",
       "    <tr>\n",
       "      <th>98975</th>\n",
       "      <td>1749991</td>\n",
       "      <td>107</td>\n",
       "      <td>29</td>\n",
       "      <td>1906</td>\n",
       "      <td>12</td>\n",
       "      <td>male</td>\n",
       "      <td>328.0</td>\n",
       "      <td>3748</td>\n",
       "      <td>396</td>\n",
       "      <td>6203</td>\n",
       "      <td>19674</td>\n",
       "      <td>3667</td>\n",
       "      <td>17624</td>\n",
       "      <td>2536</td>\n",
       "      <td>2050</td>\n",
       "    </tr>\n",
       "  </tbody>\n",
       "</table>\n",
       "<p>4314 rows × 15 columns</p>\n",
       "</div>"
      ],
      "text/plain": [
       "        userid  age  dob_day  dob_year  dob_month  gender  tenure  \\\n",
       "1693   1942772   97       15      1916         11    male   613.0   \n",
       "1694   1226208  100        1      1913         12  female   171.0   \n",
       "1695   2192316  107       22      1906          5    male   242.0   \n",
       "1696   2100908  108       26      1905          3    male   109.0   \n",
       "1778   1973211  108        6      1905          6    male     6.0   \n",
       "...        ...  ...      ...       ...        ...     ...     ...   \n",
       "98895  2008877  108       23      1905          4    male  1587.0   \n",
       "98903  2085281   96       28      1917          6    male   999.0   \n",
       "98923  1761484  103       18      1910          3  female   560.0   \n",
       "98934  2115451  108       18      1905          5  female   954.0   \n",
       "98975  1749991  107       29      1906         12    male   328.0   \n",
       "\n",
       "       friend_count  friendships_initiated  likes  likes_received  \\\n",
       "1693              0                      0      0               0   \n",
       "1694              0                      0      0               0   \n",
       "1695              0                      0      0               0   \n",
       "1696              0                      0      0               0   \n",
       "1778              0                      0      1               1   \n",
       "...             ...                    ...    ...             ...   \n",
       "98895          2460                   1158   2753             593   \n",
       "98903          3738                   1705   2952            3857   \n",
       "98923          3018                    547   5595            1926   \n",
       "98934          3982                   1190   6016            4012   \n",
       "98975          3748                    396   6203           19674   \n",
       "\n",
       "       mobile_likes  mobile_likes_received  www_likes  www_likes_received  \n",
       "1693              0                      0          0                   0  \n",
       "1694              0                      0          0                   0  \n",
       "1695              0                      0          0                   0  \n",
       "1696              0                      0          0                   0  \n",
       "1778              1                      1          0                   0  \n",
       "...             ...                    ...        ...                 ...  \n",
       "98895          2694                    327         59                 266  \n",
       "98903          2223                   2709        729                1148  \n",
       "98923           586                    810       5009                1116  \n",
       "98934          1180                   2816       4836                1196  \n",
       "98975          3667                  17624       2536                2050  \n",
       "\n",
       "[4314 rows x 15 columns]"
      ]
     },
     "execution_count": 10,
     "metadata": {},
     "output_type": "execute_result"
    }
   ],
   "source": [
    "df[(df['age'] >95)|(df['age'] < -25)]"
   ]
  },
  {
   "cell_type": "markdown",
   "metadata": {},
   "source": [
    "##### Approach#6: Z-Score"
   ]
  },
  {
   "cell_type": "code",
   "execution_count": 11,
   "metadata": {},
   "outputs": [],
   "source": [
    "from scipy import stats\n",
    "age_outliers=np.abs(stats.zscore(df['age']))\n",
    "age_outliers_gt=np.where(age_outliers > 3)\n",
    "age_outliers_lt=np.where(age_outliers < -3)"
   ]
  },
  {
   "cell_type": "code",
   "execution_count": 12,
   "metadata": {},
   "outputs": [
    {
     "name": "stdout",
     "output_type": "stream",
     "text": [
      "1695     107\n",
      "1696     108\n",
      "1778     108\n",
      "3132     107\n",
      "3133     108\n",
      "        ... \n",
      "98775    108\n",
      "98886    108\n",
      "98895    108\n",
      "98934    108\n",
      "98975    107\n",
      "Name: age, Length: 2146, dtype: int64\n"
     ]
    }
   ],
   "source": [
    "for i in age_outliers_gt:\n",
    "    print(df.iloc[i,1])"
   ]
  },
  {
   "cell_type": "code",
   "execution_count": 13,
   "metadata": {},
   "outputs": [
    {
     "name": "stdout",
     "output_type": "stream",
     "text": [
      "Series([], Name: age, dtype: int64)\n"
     ]
    }
   ],
   "source": [
    "for i in age_outliers_lt:\n",
    "    print(df.iloc[i,1])"
   ]
  },
  {
   "cell_type": "markdown",
   "metadata": {},
   "source": [
    "##### Approach#7: DTALE"
   ]
  },
  {
   "cell_type": "markdown",
   "metadata": {},
   "source": [
    "* Instal DTALE PIP as shown below"
   ]
  },
  {
   "cell_type": "code",
   "execution_count": 14,
   "metadata": {},
   "outputs": [
    {
     "name": "stdout",
     "output_type": "stream",
     "text": [
      "Note: you may need to restart the kernel to use updated packages.\n"
     ]
    },
    {
     "name": "stderr",
     "output_type": "stream",
     "text": [
      "\n",
      "Usage:   \n",
      "  C:\\ProgramData\\Anaconda3\\python.exe -m pip install [options] <requirement specifier> [package-index-options] ...\n",
      "  C:\\ProgramData\\Anaconda3\\python.exe -m pip install [options] -r <requirements file> [package-index-options] ...\n",
      "  C:\\ProgramData\\Anaconda3\\python.exe -m pip install [options] [-e] <vcs project url> ...\n",
      "  C:\\ProgramData\\Anaconda3\\python.exe -m pip install [options] [-e] <local project path> ...\n",
      "  C:\\ProgramData\\Anaconda3\\python.exe -m pip install [options] <archive url/path> ...\n",
      "\n",
      "no such option: -d\n"
     ]
    }
   ],
   "source": [
    "pip install -dtale"
   ]
  },
  {
   "cell_type": "markdown",
   "metadata": {},
   "source": [
    "* Import DTALE & use it on our dataset as shown below"
   ]
  },
  {
   "cell_type": "code",
   "execution_count": 15,
   "metadata": {
    "scrolled": true
   },
   "outputs": [
    {
     "data": {
      "text/html": [
       "\n",
       "        <iframe\n",
       "            width=\"100%\"\n",
       "            height=\"475\"\n",
       "            src=\"http://Sans:40000/dtale/iframe/1\"\n",
       "            frameborder=\"0\"\n",
       "            allowfullscreen\n",
       "        ></iframe>\n",
       "        "
      ],
      "text/plain": [
       "<IPython.lib.display.IFrame at 0x1840fd77190>"
      ]
     },
     "metadata": {},
     "output_type": "display_data"
    },
    {
     "data": {
      "text/plain": []
     },
     "execution_count": 15,
     "metadata": {},
     "output_type": "execute_result"
    }
   ],
   "source": [
    "import dtale\n",
    "dt=dtale.show(df)\n",
    "dt"
   ]
  },
  {
   "cell_type": "markdown",
   "metadata": {},
   "source": [
    "* From the above output, left-click on the arrow on top left corner and click on \"Highlight Outliers\" from the drop-down which highlights the fields in which Outliers exist.\n",
    "* From the above output, left-click on the arrow on top left corner and click on \"Describe\", which opens up in a new window with stats for every column. Click on each and every column and you can see stats for that column along with Unique Values & Outlier values."
   ]
  },
  {
   "cell_type": "markdown",
   "metadata": {},
   "source": [
    "### Outliers Handling"
   ]
  },
  {
   "cell_type": "markdown",
   "metadata": {},
   "source": [
    "* Outliers handling can be done in two ways as mentioned below: \n",
    "    \n",
    "    Approach#1. Correcting Outliers -- In this method we'll be updating the value of the outlier column with a value which is                   either the Higher Limit or Lower Limit of that particular column.\n",
    "    \n",
    "    Approach#2. Removing Outliers -- In this method we'll be removing the outlier datapoints which we've identified above. In                   this method that shape of dataset will be reduced as we'll be removing outlier data rows from our analysis."
   ]
  },
  {
   "cell_type": "markdown",
   "metadata": {},
   "source": [
    "* Approach#1: Correcting Outliers"
   ]
  },
  {
   "cell_type": "markdown",
   "metadata": {},
   "source": [
    "* We can use any of the above used methods for detecting outliers to correct them as well. Here, we will use the IQR function created to find outliers using IQR method & correct them."
   ]
  },
  {
   "cell_type": "code",
   "execution_count": 34,
   "metadata": {},
   "outputs": [],
   "source": [
    "lowage,highage=outlier(df['age'])\n",
    "df['age']=np.where(df['age']>highage,highage,df['age'])\n",
    "df['age']=np.where(df['age']<lowage,lowage,df['age'])"
   ]
  },
  {
   "cell_type": "markdown",
   "metadata": {},
   "source": [
    "* Let us plot a box plot to see if outliers still exist in Age column of the dataset"
   ]
  },
  {
   "cell_type": "code",
   "execution_count": 36,
   "metadata": {},
   "outputs": [
    {
     "data": {
      "text/plain": [
       "<matplotlib.axes._subplots.AxesSubplot at 0x1841d16bbe0>"
      ]
     },
     "execution_count": 36,
     "metadata": {},
     "output_type": "execute_result"
    },
    {
     "data": {
      "image/png": "[encoded data removed]",
      "text/plain": [
       "<Figure size 432x288 with 1 Axes>"
      ]
     },
     "metadata": {
      "needs_background": "light"
     },
     "output_type": "display_data"
    }
   ],
   "source": [
    "sns.boxplot(y=\"age\",data=df)"
   ]
  },
  {
   "cell_type": "markdown",
   "metadata": {},
   "source": [
    "* From the above plot we can see that Outliers are removed successfully."
   ]
  },
  {
   "cell_type": "markdown",
   "metadata": {},
   "source": [
    "* Approach#2: Removing Outliers"
   ]
  },
  {
   "cell_type": "markdown",
   "metadata": {},
   "source": [
    "* For removal of Outliers also we can use any of the above mentioned Outlier Detection methods. Here, we'll use IQR method to remove outliers by calling the Outlier function."
   ]
  },
  {
   "cell_type": "code",
   "execution_count": 47,
   "metadata": {},
   "outputs": [],
   "source": [
    "lowage,highage=outlier(df['age'])\n",
    "df.drop(df[(df['age'] < lowage) | (df['age'] >highage)].index, inplace = True) "
   ]
  },
  {
   "cell_type": "markdown",
   "metadata": {},
   "source": [
    "* Let us plot a box plot to see if outliers still exist in Age column of the dataset"
   ]
  },
  {
   "cell_type": "code",
   "execution_count": 48,
   "metadata": {},
   "outputs": [
    {
     "data": {
      "text/plain": [
       "<matplotlib.axes._subplots.AxesSubplot at 0x1841da24af0>"
      ]
     },
     "execution_count": 48,
     "metadata": {},
     "output_type": "execute_result"
    },
    {
     "data": {
      "image/png": "[encoded data removed]",
      "text/plain": [
       "<Figure size 432x288 with 1 Axes>"
      ]
     },
     "metadata": {
      "needs_background": "light"
     },
     "output_type": "display_data"
    },
    {
     "name": "stdout",
     "output_type": "stream",
     "text": [
      "Executing shutdown due to inactivity...\n"
     ]
    },
    {
     "name": "stderr",
     "output_type": "stream",
     "text": [
      "2020-11-04 11:47:44,604 - INFO     - Executing shutdown due to inactivity...\n"
     ]
    },
    {
     "name": "stdout",
     "output_type": "stream",
     "text": [
      "Executing shutdown...\n"
     ]
    },
    {
     "name": "stderr",
     "output_type": "stream",
     "text": [
      "2020-11-04 11:47:48,691 - INFO     - Executing shutdown...\n"
     ]
    }
   ],
   "source": [
    "sns.boxplot(y=\"age\",data=df)"
   ]
  }
 ],
 "metadata": {
  "kernelspec": {
   "display_name": "Python 3",
   "language": "python",
   "name": "python3"
  },
  "language_info": {
   "codemirror_mode": {
    "name": "ipython",
    "version": 3
   },
   "file_extension": ".py",
   "mimetype": "text/x-python",
   "name": "python",
   "nbconvert_exporter": "python",
   "pygments_lexer": "ipython3",
   "version": "3.8.3"
  }
 },
 "nbformat": 4,
 "nbformat_minor": 4
}
